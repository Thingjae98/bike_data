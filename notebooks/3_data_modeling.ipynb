{
 "cells": [
  {
   "cell_type": "markdown",
   "id": "2c956d14",
   "metadata": {},
   "source": [
    "# 🚲 서울시 자전거 이용 데이터 분석\n",
    "본 프로젝트에서는 2024년 3월 서울시 공공자전거(따릉이) 데이터와 날씨 데이터를 활용하여\n",
    "\n",
    "**시간대/요일별 이용량**, **인기 대여소/반납소**, **계절별 변화**, **날씨와의 상관관계**를 분석합니다.\n",
    "\n",
    "데이터 분석 후 클러스터링, 모델링, 시각화 등을 진행했습니다."
   ]
  },
  {
   "cell_type": "code",
   "execution_count": 1,
   "id": "bdc6b773",
   "metadata": {},
   "outputs": [
    {
     "name": "stdout",
     "output_type": "stream",
     "text": [
      "<class 'pandas.core.frame.DataFrame'>\n",
      "RangeIndex: 2126133 entries, 0 to 2126132\n",
      "Data columns (total 22 columns):\n",
      " #   Column    Dtype  \n",
      "---  ------    -----  \n",
      " 0   대여일시      object \n",
      " 1   대여소명      object \n",
      " 2   대여구분코드    object \n",
      " 3   성별        object \n",
      " 4   연령대코드     object \n",
      " 5   이용건수      int64  \n",
      " 6   운동량       float64\n",
      " 7   탄소량       float64\n",
      " 8   이동거리(M)   float64\n",
      " 9   이용시간(분)   int64  \n",
      " 10  요일        object \n",
      " 11  시간대       int64  \n",
      " 12  날짜시간      object \n",
      " 13  일시        object \n",
      " 14  기온(°C)    float64\n",
      " 15  강수량(mm)   float64\n",
      " 16  풍속(m/s)   float64\n",
      " 17  습도(%)     int64  \n",
      " 18  지면온도(°C)  float64\n",
      " 19  적설(cm)    float64\n",
      " 20  month     int64  \n",
      " 21  season    object \n",
      "dtypes: float64(8), int64(5), object(9)\n",
      "memory usage: 356.9+ MB\n"
     ]
    }
   ],
   "source": [
    "import pandas as pd\n",
    "\n",
    "# 데이터 파일 경로 설정\n",
    "file_path = \"../datas/merged_data.csv\"\n",
    "\n",
    "# CSV 파일 로드\n",
    "df = pd.read_csv(file_path, encoding='cp949')\n",
    "\n",
    "# 데이터 정보 확인\n",
    "df.info()"
   ]
  },
  {
   "cell_type": "code",
   "execution_count": 2,
   "id": "fa0a9c74",
   "metadata": {},
   "outputs": [
    {
     "name": "stderr",
     "output_type": "stream",
     "text": [
      "C:\\Users\\mj985\\AppData\\Local\\Temp\\ipykernel_9104\\1135952483.py:5: SettingWithCopyWarning: \n",
      "A value is trying to be set on a copy of a slice from a DataFrame.\n",
      "Try using .loc[row_indexer,col_indexer] = value instead\n",
      "\n",
      "See the caveats in the documentation: https://pandas.pydata.org/pandas-docs/stable/user_guide/indexing.html#returning-a-view-versus-a-copy\n",
      "  df_clean['대여일시'] = pd.to_datetime(df_clean['대여일시'])\n"
     ]
    }
   ],
   "source": [
    "# 필요한 컬럼만 선택 (예시: 기온, 강수량, 이동거리 등)\n",
    "df_clean = df[['대여일시', '대여소명', '대여구분코드', '성별', '연령대코드', '이용건수', '운동량', '이동거리(M)', '이용시간(분)', '기온(°C)', '강수량(mm)', '풍속(m/s)', '습도(%)', '요일', '시간대']]\n",
    "\n",
    "# '대여일시'를 datetime 형식으로 변환\n",
    "df_clean['대여일시'] = pd.to_datetime(df_clean['대여일시'])"
   ]
  },
  {
   "cell_type": "code",
   "execution_count": 3,
   "id": "ba698992",
   "metadata": {},
   "outputs": [
    {
     "name": "stderr",
     "output_type": "stream",
     "text": [
      "C:\\Users\\mj985\\AppData\\Local\\Temp\\ipykernel_9104\\1034057432.py:2: SettingWithCopyWarning: \n",
      "A value is trying to be set on a copy of a slice from a DataFrame.\n",
      "Try using .loc[row_indexer,col_indexer] = value instead\n",
      "\n",
      "See the caveats in the documentation: https://pandas.pydata.org/pandas-docs/stable/user_guide/indexing.html#returning-a-view-versus-a-copy\n",
      "  df_clean['시간'] = df_clean['대여일시'].dt.hour\n",
      "C:\\Users\\mj985\\AppData\\Local\\Temp\\ipykernel_9104\\1034057432.py:3: SettingWithCopyWarning: \n",
      "A value is trying to be set on a copy of a slice from a DataFrame.\n",
      "Try using .loc[row_indexer,col_indexer] = value instead\n",
      "\n",
      "See the caveats in the documentation: https://pandas.pydata.org/pandas-docs/stable/user_guide/indexing.html#returning-a-view-versus-a-copy\n",
      "  df_clean['요일'] = df_clean['대여일시'].dt.day_name()\n",
      "C:\\Users\\mj985\\AppData\\Local\\Temp\\ipykernel_9104\\1034057432.py:6: SettingWithCopyWarning: \n",
      "A value is trying to be set on a copy of a slice from a DataFrame.\n",
      "Try using .loc[row_indexer,col_indexer] = value instead\n",
      "\n",
      "See the caveats in the documentation: https://pandas.pydata.org/pandas-docs/stable/user_guide/indexing.html#returning-a-view-versus-a-copy\n",
      "  df_clean['대여구분코드'] = df_clean['대여구분코드'].astype('category')\n",
      "C:\\Users\\mj985\\AppData\\Local\\Temp\\ipykernel_9104\\1034057432.py:7: SettingWithCopyWarning: \n",
      "A value is trying to be set on a copy of a slice from a DataFrame.\n",
      "Try using .loc[row_indexer,col_indexer] = value instead\n",
      "\n",
      "See the caveats in the documentation: https://pandas.pydata.org/pandas-docs/stable/user_guide/indexing.html#returning-a-view-versus-a-copy\n",
      "  df_clean['성별'] = df_clean['성별'].astype('category')\n",
      "C:\\Users\\mj985\\AppData\\Local\\Temp\\ipykernel_9104\\1034057432.py:8: SettingWithCopyWarning: \n",
      "A value is trying to be set on a copy of a slice from a DataFrame.\n",
      "Try using .loc[row_indexer,col_indexer] = value instead\n",
      "\n",
      "See the caveats in the documentation: https://pandas.pydata.org/pandas-docs/stable/user_guide/indexing.html#returning-a-view-versus-a-copy\n",
      "  df_clean['연령대코드'] = df_clean['연령대코드'].astype('category')\n"
     ]
    }
   ],
   "source": [
    "# '대여일시'에서 시간과 요일을 추출\n",
    "df_clean['시간'] = df_clean['대여일시'].dt.hour\n",
    "df_clean['요일'] = df_clean['대여일시'].dt.day_name()\n",
    "\n",
    "# '대여구분코드'를 카테고리형 변수로 변환\n",
    "df_clean['대여구분코드'] = df_clean['대여구분코드'].astype('category')\n",
    "df_clean['성별'] = df_clean['성별'].astype('category')\n",
    "df_clean['연령대코드'] = df_clean['연령대코드'].astype('category')"
   ]
  },
  {
   "cell_type": "markdown",
   "id": "250a0d1a",
   "metadata": {},
   "source": [
    "## 1. 클러스터링: 시간대, 요일, 대여소 기반 군집화 분석\n",
    "목표: 출퇴근, 관광 등 패턴을 구분하기 위해 KMeans 클러스터링을 사용하여 시간대, 요일, 대여소 기반으로 군집화 분석을 수행합니다."
   ]
  },
  {
   "cell_type": "code",
   "execution_count": 6,
   "id": "6d63ffd0",
   "metadata": {},
   "outputs": [
    {
     "name": "stderr",
     "output_type": "stream",
     "text": [
      "C:\\Users\\mj985\\AppData\\Local\\Temp\\ipykernel_9104\\950526360.py:19: SettingWithCopyWarning: \n",
      "A value is trying to be set on a copy of a slice from a DataFrame.\n",
      "Try using .loc[row_indexer,col_indexer] = value instead\n",
      "\n",
      "See the caveats in the documentation: https://pandas.pydata.org/pandas-docs/stable/user_guide/indexing.html#returning-a-view-versus-a-copy\n",
      "  df_cluster['요일'] = df_cluster['요일'].astype('category').cat.codes  # 요일을 숫자로 변환\n",
      "c:\\Users\\mj985\\AppData\\Local\\Programs\\Python\\Python311\\Lib\\site-packages\\sklearn\\cluster\\_kmeans.py:870: FutureWarning: The default value of `n_init` will change from 10 to 'auto' in 1.4. Set the value of `n_init` explicitly to suppress the warning\n",
      "  warnings.warn(\n",
      "C:\\Users\\mj985\\AppData\\Local\\Temp\\ipykernel_9104\\950526360.py:23: SettingWithCopyWarning: \n",
      "A value is trying to be set on a copy of a slice from a DataFrame.\n",
      "Try using .loc[row_indexer,col_indexer] = value instead\n",
      "\n",
      "See the caveats in the documentation: https://pandas.pydata.org/pandas-docs/stable/user_guide/indexing.html#returning-a-view-versus-a-copy\n",
      "  df_cluster['cluster'] = kmeans.fit_predict(df_cluster[['시간대', '요일']])\n",
      "C:\\Users\\mj985\\AppData\\Local\\Temp\\ipykernel_9104\\950526360.py:30: UserWarning: Creating legend with loc=\"best\" can be slow with large amounts of data.\n",
      "  plt.savefig(os.path.join(save_dir, '클러스터링.png'))  # 그래프 저장\n",
      "c:\\Users\\mj985\\AppData\\Local\\Programs\\Python\\Python311\\Lib\\site-packages\\IPython\\core\\pylabtools.py:152: UserWarning: Creating legend with loc=\"best\" can be slow with large amounts of data.\n",
      "  fig.canvas.print_figure(bytes_io, **kw)\n"
     ]
    },
    {
     "data": {
      "image/png": "[encoded data removed]",
      "text/plain": [
       "<Figure size 640x480 with 1 Axes>"
      ]
     },
     "metadata": {},
     "output_type": "display_data"
    }
   ],
   "source": [
    "from sklearn.cluster import KMeans\n",
    "import seaborn as sns\n",
    "import matplotlib.pyplot as plt\n",
    "import os\n",
    "import matplotlib.font_manager as fm\n",
    "\n",
    "# 한글 폰트 설정 \n",
    "font_path = \"C:/Windows/Fonts/malgun.ttf\"  # Windows의 경우\n",
    "\n",
    "font_prop = fm.FontProperties(fname=font_path, size=14)\n",
    "plt.rc('font', family=font_prop.get_name())\n",
    "\n",
    "# 이미지 저장 경로 설정\n",
    "save_dir = '../images'  # 상위 폴더의 images 폴더\n",
    "\n",
    "# 필요한 컬럼 선택\n",
    "df_cluster = df[['대여소명', '시간대', '요일']]\n",
    "df_cluster['요일'] = df_cluster['요일'].astype('category').cat.codes  # 요일을 숫자로 변환\n",
    "\n",
    "# 군집화 (KMeans)\n",
    "kmeans = KMeans(n_clusters=3, random_state=42)  # 출퇴근, 관광 등 3개의 군집\n",
    "df_cluster['cluster'] = kmeans.fit_predict(df_cluster[['시간대', '요일']])\n",
    "\n",
    "# 군집 시각화\n",
    "sns.scatterplot(data=df_cluster, x=\"시간대\", y=\"요일\", hue=\"cluster\", palette=\"Set2\")\n",
    "plt.title(\"시간대, 요일 기반 클러스터링\")\n",
    "plt.xlabel(\"시간대\")\n",
    "plt.ylabel(\"요일\")\n",
    "plt.savefig(os.path.join(save_dir, '클러스터링.png'))  # 그래프 저장\n",
    "plt.show()"
   ]
  },
  {
   "cell_type": "markdown",
   "id": "2badeae0",
   "metadata": {},
   "source": [
    "## 2. 예측 모델링 : 날씨/시간대 기반 수요 예측\n",
    "목표: 날씨(기온, 강수량 등)와 시간대 정보를 기반으로 자전거 이용 수요를 예측합니다. 예측 모델로 XGBoost를 사용합니다."
   ]
  },
  {
   "cell_type": "code",
   "execution_count": 8,
   "id": "838e2887",
   "metadata": {},
   "outputs": [
    {
     "name": "stdout",
     "output_type": "stream",
     "text": [
      "Collecting xgboost\n",
      "  Downloading xgboost-3.0.0-py3-none-win_amd64.whl (150.0 MB)\n",
      "     -------------------------------------- 150.0/150.0 MB 7.3 MB/s eta 0:00:00\n",
      "Requirement already satisfied: numpy in c:\\users\\mj985\\appdata\\local\\programs\\python\\python311\\lib\\site-packages (from xgboost) (1.23.5)\n",
      "Requirement already satisfied: scipy in c:\\users\\mj985\\appdata\\local\\programs\\python\\python311\\lib\\site-packages (from xgboost) (1.10.1)\n",
      "Installing collected packages: xgboost\n",
      "Successfully installed xgboost-3.0.0\n"
     ]
    },
    {
     "name": "stderr",
     "output_type": "stream",
     "text": [
      "\n",
      "[notice] A new release of pip available: 22.3.1 -> 25.1.1\n",
      "[notice] To update, run: python.exe -m pip install --upgrade pip\n"
     ]
    }
   ],
   "source": [
    "!pip install xgboost"
   ]
  },
  {
   "cell_type": "code",
   "execution_count": 9,
   "id": "42292125",
   "metadata": {},
   "outputs": [
    {
     "name": "stdout",
     "output_type": "stream",
     "text": [
      "Mean Absolute Error: 0.13272248037793952\n"
     ]
    }
   ],
   "source": [
    "from sklearn.model_selection import train_test_split\n",
    "import xgboost as xgb\n",
    "from sklearn.metrics import mean_absolute_error\n",
    "\n",
    "# 특성 및 목표 변수 선택\n",
    "X = df[['기온(°C)', '강수량(mm)', '시간대', '풍속(m/s)']]\n",
    "y = df['이용건수']\n",
    "\n",
    "# 훈련/테스트 데이터 분리\n",
    "X_train, X_test, y_train, y_test = train_test_split(X, y, test_size=0.3, random_state=42)\n",
    "\n",
    "# XGBoost 모델 학습\n",
    "model = xgb.XGBRegressor(random_state=42)\n",
    "model.fit(X_train, y_train)\n",
    "\n",
    "# 예측\n",
    "y_pred = model.predict(X_test)\n",
    "\n",
    "# 성능 평가 (MAE)\n",
    "mae = mean_absolute_error(y_test, y_pred)\n",
    "print(f\"Mean Absolute Error: {mae}\")"
   ]
  },
  {
   "cell_type": "code",
   "execution_count": 10,
   "id": "25eb275b",
   "metadata": {},
   "outputs": [
    {
     "name": "stdout",
     "output_type": "stream",
     "text": [
      "Note: you may need to restart the kernel to use updated packages.\n"
     ]
    }
   ],
   "source": [
    "pip freeze > ../requirements.txt"
   ]
  }
 ],
 "metadata": {
  "kernelspec": {
   "display_name": "Python 3",
   "language": "python",
   "name": "python3"
  },
  "language_info": {
   "codemirror_mode": {
    "name": "ipython",
    "version": 3
   },
   "file_extension": ".py",
   "mimetype": "text/x-python",
   "name": "python",
   "nbconvert_exporter": "python",
   "pygments_lexer": "ipython3",
   "version": "3.11.2"
  }
 },
 "nbformat": 4,
 "nbformat_minor": 5
}
