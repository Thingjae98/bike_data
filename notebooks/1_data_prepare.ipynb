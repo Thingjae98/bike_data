{
 "cells": [
  {
   "cell_type": "markdown",
   "metadata": {},
   "source": [
    "# 🚲 서울시 자전거 이용 데이터 분석\n",
    "본 프로젝트에서는 2024년 12월 서울시 공공자전거(따릉이) 데이터와 날씨 데이터를 활용하여\n",
    "\n",
    "**시간대/요일별 이용량**, **인기 대여소/반납소**, **계절별 변화**, **날씨와의 상관관계**를 분석합니다.\n",
    "\n",
    "데이터 분석에 앞서 데이터는 서울시 열린데이터 광장에서 시간대별 자전거 데이터(12월)와 날씨 데이터를 사용하기 위한 준비 과정입니다."
   ]
  },
  {
   "cell_type": "markdown",
   "id": "f95d7dff",
   "metadata": {},
   "source": [
    "## 1. 자전거 데이터 처리"
   ]
  },
  {
   "cell_type": "code",
   "execution_count": 25,
   "metadata": {},
   "outputs": [
    {
     "name": "stdout",
     "output_type": "stream",
     "text": [
      "         대여일자  대여시간  대여소번호                 대여소명 대여구분코드   성별 연령대코드  이용건수   \n",
      "0  2024-12-01     0   1442  1442. 중랑구청 중화동 별관 앞    정기권  NaN  ~10대     1  \\\n",
      "1  2024-12-01     0   2728     2728.마곡나루역 3번 출구    정기권  NaN  ~10대     1   \n",
      "2  2024-12-01     0   1023     1023. 한국종합기술사옥 앞    정기권  NaN   20대     1   \n",
      "3  2024-12-01     0   1150       1150. 송정역 1번출구    정기권  NaN   20대     1   \n",
      "4  2024-12-01     0   1260  1260. 방이동 한양3차아파트 옆    정기권  NaN   20대     1   \n",
      "\n",
      "      운동량   탄소량  이동거리(M)  이용시간(분)  \n",
      "0  105.32  0.66  2829.30       18  \n",
      "1   22.45  0.25  1090.00        7  \n",
      "2  148.31  0.87  3745.23       21  \n",
      "3   24.01  0.19   808.44        6  \n",
      "4   92.85  0.94  4042.55       35  \n"
     ]
    }
   ],
   "source": [
    "# 데이터 불러오기\n",
    "import pandas as pd\n",
    "import matplotlib.pyplot as plt\n",
    "import seaborn as sns\n",
    "from datetime import datetime\n",
    "\n",
    "# CSV 파일 경로 설정\n",
    "file_path = '../datas/서울특별시 공공자전거 이용정보(시간대별)_202412.csv'\n",
    "\n",
    "# CSV 파일 읽기 (cp949 인코딩 사용)\n",
    "data = pd.read_csv(file_path, encoding='cp949')\n",
    "\n",
    "# 데이터 확인\n",
    "print(data.head())\n"
   ]
  },
  {
   "cell_type": "code",
   "execution_count": 26,
   "id": "69a45cae",
   "metadata": {},
   "outputs": [
    {
     "name": "stdout",
     "output_type": "stream",
     "text": [
      "               대여일자  대여시간  대여소번호                 대여소명 대여구분코드   성별 연령대코드  이용건수   \n",
      "1603510  2024-12-23    11    213             213. KT앞    정기권  NaN   20대     1  \\\n",
      "52023    2024-12-01    20   3569          3569.건대병원후문    일일권    M   20대     1   \n",
      "606826   2024-12-09     7   1171  1171. 염창동 새마을금고 건너편    정기권    M  ~10대     1   \n",
      "446842   2024-12-06    15   2907          2907. 월계중학교    정기권    F  ~10대     2   \n",
      "1469478  2024-12-20    14   1957     1957. 구일고등학교 정문     정기권    M   30대     1   \n",
      "\n",
      "           운동량   탄소량  이동거리(M)  이용시간(분)                대여일시  \n",
      "1603510  25.91  0.22   962.07        8 2024-12-23 11:00:00  \n",
      "52023    69.00  0.61  2640.00       14 2024-12-01 20:00:00  \n",
      "606826   37.58  0.34  1460.00       14 2024-12-09 07:00:00  \n",
      "446842   80.44  0.87  3738.50       24 2024-12-06 15:00:00  \n",
      "1469478  79.28  0.71  3080.00       22 2024-12-20 14:00:00  \n"
     ]
    }
   ],
   "source": [
    "# 대여일자 + 대여시간 \n",
    "\n",
    "data['대여일시'] = pd.to_datetime(data['대여일자'].astype(str) + ' ' + data['대여시간'].astype(str).str.zfill(2) + ':00')\n",
    "\n",
    "# 확인\n",
    "print(data.sample(5))"
   ]
  },
  {
   "cell_type": "code",
   "execution_count": 27,
   "id": "ff0a8e9f",
   "metadata": {},
   "outputs": [
    {
     "name": "stdout",
     "output_type": "stream",
     "text": [
      "                       대여일시                     대여소명 대여구분코드   성별  연령대코드  이용건수   \n",
      "455396  2024-12-06 16:00:00           806. 전자랜드 본관 앞    정기권    M    40대     1  \\\n",
      "1029135 2024-12-14 01:00:00         3778. 김포공항입구 교차로    정기권  NaN  70대이상     1   \n",
      "1022604 2024-12-13 22:00:00  1503. 강북구청사거리(수유역 8번출구)    정기권  NaN    20대     1   \n",
      "911417  2024-12-12 16:00:00         1754. 창동시장입구 사거리    정기권    M   ~10대     1   \n",
      "834309  2024-12-11 18:00:00           5066. 아망떼마곡전시장    정기권    F    40대     1   \n",
      "\n",
      "            운동량   탄소량  이동거리(M)  이용시간(분)  \n",
      "455396   266.46  1.88  8106.94       87  \n",
      "1029135   62.00  0.61  2609.46       15  \n",
      "1022604  109.29  0.71  3066.61       18  \n",
      "911417    32.25  0.24  1044.24        5  \n",
      "834309    10.94  0.11   484.75        6  \n"
     ]
    }
   ],
   "source": [
    "# 필요한 칼럼 선택\n",
    "selected_columns = [\n",
    "    '대여일시', '대여소명', '대여구분코드', '성별', '연령대코드', '이용건수', \n",
    "    '운동량', '탄소량', '이동거리(M)', '이용시간(분)'\n",
    "]\n",
    "data = data[selected_columns]\n",
    "\n",
    "print(data.sample(5))"
   ]
  },
  {
   "cell_type": "code",
   "execution_count": 28,
   "id": "b6804bab",
   "metadata": {},
   "outputs": [
    {
     "name": "stdout",
     "output_type": "stream",
     "text": [
      "                       대여일시                      대여소명 대여구분코드   성별 연령대코드  이용건수   \n",
      "819364  2024-12-11 15:00:00               4864. 송파사거리    정기권    M   40대     1  \\\n",
      "930101  2024-12-12 19:00:00  2340. 삼호물산버스정류장(23370) 옆    정기권  NaN   30대     1   \n",
      "2079258 2024-12-31 10:00:00            1708. 도봉보건소사거리    정기권    M   60대     1   \n",
      "1829146 2024-12-26 22:00:00            1625. 상계역 3번출구    정기권  NaN   60대     1   \n",
      "2087139 2024-12-31 13:00:00       2337. 대모산입구역 2번출구 앞    정기권    F  ~10대     1   \n",
      "\n",
      "           운동량   탄소량  이동거리(M)  이용시간(분)         요일  시간대  \n",
      "819364   53.03  0.50  2160.00       95  Wednesday   15  \n",
      "930101   52.99  0.44  1884.85       24   Thursday   19  \n",
      "2079258  28.49  0.26  1141.83        8    Tuesday   10  \n",
      "1829146  28.24  0.25  1097.02       10   Thursday   22  \n",
      "2087139   0.00  0.00     0.00       56    Tuesday   13  \n"
     ]
    }
   ],
   "source": [
    "# 요일과 시간대 칼럼 추가\n",
    "data['요일'] = data['대여일시'].dt.day_name()  # 요일\n",
    "data['시간대'] = data['대여일시'].dt.hour  # 시간대\n",
    "\n",
    "print(data.sample(5))"
   ]
  },
  {
   "cell_type": "code",
   "execution_count": 29,
   "id": "29a8db83",
   "metadata": {},
   "outputs": [
    {
     "name": "stdout",
     "output_type": "stream",
     "text": [
      "<class 'pandas.core.frame.DataFrame'>\n",
      "RangeIndex: 2126133 entries, 0 to 2126132\n",
      "Data columns (total 12 columns):\n",
      " #   Column   Dtype         \n",
      "---  ------   -----         \n",
      " 0   대여일시     datetime64[ns]\n",
      " 1   대여소명     object        \n",
      " 2   대여구분코드   object        \n",
      " 3   성별       object        \n",
      " 4   연령대코드    object        \n",
      " 5   이용건수     int64         \n",
      " 6   운동량      object        \n",
      " 7   탄소량      object        \n",
      " 8   이동거리(M)  float64       \n",
      " 9   이용시간(분)  int64         \n",
      " 10  요일       object        \n",
      " 11  시간대      int32         \n",
      "dtypes: datetime64[ns](1), float64(1), int32(1), int64(2), object(7)\n",
      "memory usage: 186.5+ MB\n"
     ]
    }
   ],
   "source": [
    "data.info()"
   ]
  },
  {
   "cell_type": "code",
   "execution_count": 30,
   "id": "a9fd4e0e",
   "metadata": {},
   "outputs": [
    {
     "name": "stdout",
     "output_type": "stream",
     "text": [
      "대여일시            0\n",
      "대여소명            0\n",
      "대여구분코드          0\n",
      "성별         551865\n",
      "연령대코드           0\n",
      "이용건수            0\n",
      "운동량             0\n",
      "탄소량             0\n",
      "이동거리(M)         0\n",
      "이용시간(분)         0\n",
      "요일              0\n",
      "시간대             0\n",
      "dtype: int64\n"
     ]
    }
   ],
   "source": [
    "print(data.isna().sum())"
   ]
  },
  {
   "cell_type": "code",
   "execution_count": 31,
   "id": "9e776ffa",
   "metadata": {},
   "outputs": [],
   "source": [
    "\n",
    "data['성별'] = data['성별'].replace({'f': 'F', 'm': 'M', 'F': 'F', 'M': 'M'})"
   ]
  },
  {
   "cell_type": "code",
   "execution_count": 32,
   "id": "26da26f8",
   "metadata": {},
   "outputs": [],
   "source": [
    "# 상위 폴더의 datas 폴더에 cleaned_bike.csv로 저장\n",
    "output_file_path = '../datas/cleaned_bike.csv'\n",
    "data.to_csv(output_file_path, index=False, encoding='cp949')"
   ]
  },
  {
   "cell_type": "markdown",
   "id": "8de3cffd",
   "metadata": {},
   "source": [
    "## 2. 기상 데이터 처리"
   ]
  },
  {
   "cell_type": "code",
   "execution_count": 33,
   "id": "b7078095",
   "metadata": {},
   "outputs": [
    {
     "name": "stdout",
     "output_type": "stream",
     "text": [
      "    지점 지점명                일시  기온(°C)  기온 QC플래그  강수량(mm)  강수량 QC플래그  풍속(m/s)   \n",
      "0  108  서울  2024-12-01 00:00     2.8       NaN      NaN        9.0      1.5  \\\n",
      "1  108  서울  2024-12-01 01:00     2.5       NaN      NaN        NaN      1.9   \n",
      "2  108  서울  2024-12-01 02:00     2.3       NaN      NaN        NaN      1.7   \n",
      "3  108  서울  2024-12-01 03:00     1.9       NaN      NaN        NaN      2.5   \n",
      "4  108  서울  2024-12-01 04:00     1.7       NaN      NaN        NaN      1.9   \n",
      "\n",
      "   풍속 QC플래그  풍향(16방위)  ...  최저운고(100m )  시정(10m)  지면상태(지면상태코드)  현상번호(국내식)   \n",
      "0       NaN        50  ...          NaN      512           NaN       19.0  \\\n",
      "1       NaN        20  ...          NaN      356           NaN       19.0   \n",
      "2       NaN        20  ...          NaN      414           NaN       19.0   \n",
      "3       NaN        20  ...          NaN      297           NaN       19.0   \n",
      "4       NaN        50  ...          NaN      386           NaN       19.0   \n",
      "\n",
      "   지면온도(°C)  지면온도 QC플래그  5cm 지중온도(°C)  10cm 지중온도(°C)  20cm 지중온도(°C)   \n",
      "0       0.5         NaN           3.6            3.7            5.0  \\\n",
      "1       0.2         NaN           3.5            3.6            4.9   \n",
      "2       0.0         NaN           3.4            3.5            4.9   \n",
      "3       0.0         NaN           3.3            3.4            4.9   \n",
      "4      -0.1         NaN           3.2            3.4            4.9   \n",
      "\n",
      "   30cm 지중온도(°C)  \n",
      "0            6.3  \n",
      "1            6.2  \n",
      "2            6.2  \n",
      "3            6.2  \n",
      "4            6.2  \n",
      "\n",
      "[5 rows x 38 columns]\n"
     ]
    }
   ],
   "source": [
    "# CSV 파일 경로 설정\n",
    "file_path = '../datas/OBS_ASOS_TIM_20250510152404.csv'\n",
    "\n",
    "# CSV 파일 읽기 (cp949 인코딩 사용)\n",
    "df = pd.read_csv(file_path, encoding='cp949')\n",
    "\n",
    "# 데이터 확인\n",
    "print(df.head())"
   ]
  },
  {
   "cell_type": "code",
   "execution_count": 34,
   "id": "e2663509",
   "metadata": {},
   "outputs": [
    {
     "name": "stdout",
     "output_type": "stream",
     "text": [
      "<class 'pandas.core.frame.DataFrame'>\n",
      "RangeIndex: 744 entries, 0 to 743\n",
      "Data columns (total 38 columns):\n",
      " #   Column         Non-Null Count  Dtype  \n",
      "---  ------         --------------  -----  \n",
      " 0   지점             744 non-null    int64  \n",
      " 1   지점명            744 non-null    object \n",
      " 2   일시             744 non-null    object \n",
      " 3   기온(°C)         744 non-null    float64\n",
      " 4   기온 QC플래그       0 non-null      float64\n",
      " 5   강수량(mm)        23 non-null     float64\n",
      " 6   강수량 QC플래그      148 non-null    float64\n",
      " 7   풍속(m/s)        744 non-null    float64\n",
      " 8   풍속 QC플래그       0 non-null      float64\n",
      " 9   풍향(16방위)       744 non-null    int64  \n",
      " 10  풍향 QC플래그       0 non-null      float64\n",
      " 11  습도(%)          744 non-null    int64  \n",
      " 12  습도 QC플래그       0 non-null      float64\n",
      " 13  증기압(hPa)       744 non-null    float64\n",
      " 14  이슬점온도(°C)      744 non-null    float64\n",
      " 15  현지기압(hPa)      744 non-null    float64\n",
      " 16  현지기압 QC플래그     0 non-null      float64\n",
      " 17  해면기압(hPa)      744 non-null    float64\n",
      " 18  해면기압 QC플래그     0 non-null      float64\n",
      " 19  일조(hr)         341 non-null    float64\n",
      " 20  일조 QC플래그       404 non-null    float64\n",
      " 21  일사(MJ/m2)      341 non-null    float64\n",
      " 22  일사 QC플래그       404 non-null    float64\n",
      " 23  적설(cm)         84 non-null     float64\n",
      " 24  3시간신적설(cm)     4 non-null      float64\n",
      " 25  전운량(10분위)      744 non-null    int64  \n",
      " 26  중하층운량(10분위)    744 non-null    int64  \n",
      " 27  운형(운형약어)       253 non-null    object \n",
      " 28  최저운고(100m )    246 non-null    float64\n",
      " 29  시정(10m)        744 non-null    int64  \n",
      " 30  지면상태(지면상태코드)   0 non-null      float64\n",
      " 31  현상번호(국내식)      101 non-null    float64\n",
      " 32  지면온도(°C)       744 non-null    float64\n",
      " 33  지면온도 QC플래그     0 non-null      float64\n",
      " 34  5cm 지중온도(°C)   744 non-null    float64\n",
      " 35  10cm 지중온도(°C)  744 non-null    float64\n",
      " 36  20cm 지중온도(°C)  744 non-null    float64\n",
      " 37  30cm 지중온도(°C)  744 non-null    float64\n",
      "dtypes: float64(29), int64(6), object(3)\n",
      "memory usage: 221.0+ KB\n"
     ]
    }
   ],
   "source": [
    "df.info()"
   ]
  },
  {
   "cell_type": "code",
   "execution_count": 35,
   "id": "ba0c6285",
   "metadata": {},
   "outputs": [],
   "source": [
    "# '일시' 칼럼을 datetime 형식으로 변환\n",
    "df['일시'] = pd.to_datetime(df['일시'])\n",
    "\n",
    "# 자전거와 관련된 칼럼 선택 (예시: 기온, 강수량, 풍속 등)\n",
    "# 필요한 칼럼 이름을 실제 데이터에 맞게 수정하세요.\n",
    "bike_related_columns = [\n",
    "    '일시', '기온(°C)', '강수량(mm)', '풍속(m/s)', '습도(%)', '지면온도(°C)', '적설(cm)'\n",
    "]\n",
    "df_bike = df[bike_related_columns]"
   ]
  },
  {
   "cell_type": "code",
   "execution_count": 36,
   "id": "44e32763",
   "metadata": {},
   "outputs": [
    {
     "name": "stdout",
     "output_type": "stream",
     "text": [
      "<class 'pandas.core.frame.DataFrame'>\n",
      "RangeIndex: 744 entries, 0 to 743\n",
      "Data columns (total 7 columns):\n",
      " #   Column    Non-Null Count  Dtype         \n",
      "---  ------    --------------  -----         \n",
      " 0   일시        744 non-null    datetime64[ns]\n",
      " 1   기온(°C)    744 non-null    float64       \n",
      " 2   강수량(mm)   23 non-null     float64       \n",
      " 3   풍속(m/s)   744 non-null    float64       \n",
      " 4   습도(%)     744 non-null    int64         \n",
      " 5   지면온도(°C)  744 non-null    float64       \n",
      " 6   적설(cm)    84 non-null     float64       \n",
      "dtypes: datetime64[ns](1), float64(5), int64(1)\n",
      "memory usage: 40.8 KB\n"
     ]
    }
   ],
   "source": [
    "df_bike.info()"
   ]
  },
  {
   "cell_type": "code",
   "execution_count": 37,
   "id": "8e4f3266",
   "metadata": {},
   "outputs": [
    {
     "data": {
      "text/html": [
       "<div>\n",
       "<style scoped>\n",
       "    .dataframe tbody tr th:only-of-type {\n",
       "        vertical-align: middle;\n",
       "    }\n",
       "\n",
       "    .dataframe tbody tr th {\n",
       "        vertical-align: top;\n",
       "    }\n",
       "\n",
       "    .dataframe thead th {\n",
       "        text-align: right;\n",
       "    }\n",
       "</style>\n",
       "<table border=\"1\" class=\"dataframe\">\n",
       "  <thead>\n",
       "    <tr style=\"text-align: right;\">\n",
       "      <th></th>\n",
       "      <th>일시</th>\n",
       "      <th>기온(°C)</th>\n",
       "      <th>강수량(mm)</th>\n",
       "      <th>풍속(m/s)</th>\n",
       "      <th>습도(%)</th>\n",
       "      <th>지면온도(°C)</th>\n",
       "      <th>적설(cm)</th>\n",
       "    </tr>\n",
       "  </thead>\n",
       "  <tbody>\n",
       "    <tr>\n",
       "      <th>468</th>\n",
       "      <td>2024-12-20 12:00:00</td>\n",
       "      <td>2.7</td>\n",
       "      <td>NaN</td>\n",
       "      <td>2.2</td>\n",
       "      <td>50</td>\n",
       "      <td>0.1</td>\n",
       "      <td>NaN</td>\n",
       "    </tr>\n",
       "    <tr>\n",
       "      <th>573</th>\n",
       "      <td>2024-12-24 21:00:00</td>\n",
       "      <td>-0.3</td>\n",
       "      <td>NaN</td>\n",
       "      <td>1.1</td>\n",
       "      <td>50</td>\n",
       "      <td>-1.0</td>\n",
       "      <td>NaN</td>\n",
       "    </tr>\n",
       "    <tr>\n",
       "      <th>384</th>\n",
       "      <td>2024-12-17 00:00:00</td>\n",
       "      <td>-1.5</td>\n",
       "      <td>NaN</td>\n",
       "      <td>0.8</td>\n",
       "      <td>70</td>\n",
       "      <td>-2.3</td>\n",
       "      <td>NaN</td>\n",
       "    </tr>\n",
       "    <tr>\n",
       "      <th>576</th>\n",
       "      <td>2024-12-25 00:00:00</td>\n",
       "      <td>-0.3</td>\n",
       "      <td>NaN</td>\n",
       "      <td>1.8</td>\n",
       "      <td>52</td>\n",
       "      <td>-1.4</td>\n",
       "      <td>NaN</td>\n",
       "    </tr>\n",
       "    <tr>\n",
       "      <th>605</th>\n",
       "      <td>2024-12-26 05:00:00</td>\n",
       "      <td>3.3</td>\n",
       "      <td>NaN</td>\n",
       "      <td>3.0</td>\n",
       "      <td>76</td>\n",
       "      <td>-0.3</td>\n",
       "      <td>NaN</td>\n",
       "    </tr>\n",
       "  </tbody>\n",
       "</table>\n",
       "</div>"
      ],
      "text/plain": [
       "                     일시  기온(°C)  강수량(mm)  풍속(m/s)  습도(%)  지면온도(°C)  적설(cm)\n",
       "468 2024-12-20 12:00:00     2.7      NaN      2.2     50       0.1     NaN\n",
       "573 2024-12-24 21:00:00    -0.3      NaN      1.1     50      -1.0     NaN\n",
       "384 2024-12-17 00:00:00    -1.5      NaN      0.8     70      -2.3     NaN\n",
       "576 2024-12-25 00:00:00    -0.3      NaN      1.8     52      -1.4     NaN\n",
       "605 2024-12-26 05:00:00     3.3      NaN      3.0     76      -0.3     NaN"
      ]
     },
     "execution_count": 37,
     "metadata": {},
     "output_type": "execute_result"
    }
   ],
   "source": [
    "df_bike.sample(5)"
   ]
  },
  {
   "cell_type": "code",
   "execution_count": 38,
   "id": "c0b852be",
   "metadata": {},
   "outputs": [
    {
     "name": "stderr",
     "output_type": "stream",
     "text": [
      "C:\\Users\\mj985\\AppData\\Local\\Temp\\ipykernel_2012\\2445096506.py:1: SettingWithCopyWarning: \n",
      "A value is trying to be set on a copy of a slice from a DataFrame\n",
      "\n",
      "See the caveats in the documentation: https://pandas.pydata.org/pandas-docs/stable/user_guide/indexing.html#returning-a-view-versus-a-copy\n",
      "  df_bike.fillna(0, inplace = True)\n"
     ]
    }
   ],
   "source": [
    "df_bike.fillna(0, inplace = True)"
   ]
  },
  {
   "cell_type": "code",
   "execution_count": 39,
   "id": "e6fd7465",
   "metadata": {},
   "outputs": [
    {
     "data": {
      "text/html": [
       "<div>\n",
       "<style scoped>\n",
       "    .dataframe tbody tr th:only-of-type {\n",
       "        vertical-align: middle;\n",
       "    }\n",
       "\n",
       "    .dataframe tbody tr th {\n",
       "        vertical-align: top;\n",
       "    }\n",
       "\n",
       "    .dataframe thead th {\n",
       "        text-align: right;\n",
       "    }\n",
       "</style>\n",
       "<table border=\"1\" class=\"dataframe\">\n",
       "  <thead>\n",
       "    <tr style=\"text-align: right;\">\n",
       "      <th></th>\n",
       "      <th>일시</th>\n",
       "      <th>기온(°C)</th>\n",
       "      <th>강수량(mm)</th>\n",
       "      <th>풍속(m/s)</th>\n",
       "      <th>습도(%)</th>\n",
       "      <th>지면온도(°C)</th>\n",
       "      <th>적설(cm)</th>\n",
       "    </tr>\n",
       "  </thead>\n",
       "  <tbody>\n",
       "    <tr>\n",
       "      <th>497</th>\n",
       "      <td>2024-12-21 17:00:00</td>\n",
       "      <td>-0.7</td>\n",
       "      <td>0.0</td>\n",
       "      <td>2.2</td>\n",
       "      <td>67</td>\n",
       "      <td>-0.2</td>\n",
       "      <td>1.4</td>\n",
       "    </tr>\n",
       "    <tr>\n",
       "      <th>671</th>\n",
       "      <td>2024-12-28 23:00:00</td>\n",
       "      <td>-3.1</td>\n",
       "      <td>0.0</td>\n",
       "      <td>0.6</td>\n",
       "      <td>56</td>\n",
       "      <td>-4.0</td>\n",
       "      <td>0.0</td>\n",
       "    </tr>\n",
       "    <tr>\n",
       "      <th>552</th>\n",
       "      <td>2024-12-24 00:00:00</td>\n",
       "      <td>-1.1</td>\n",
       "      <td>0.0</td>\n",
       "      <td>1.6</td>\n",
       "      <td>51</td>\n",
       "      <td>-2.4</td>\n",
       "      <td>0.0</td>\n",
       "    </tr>\n",
       "    <tr>\n",
       "      <th>729</th>\n",
       "      <td>2024-12-31 09:00:00</td>\n",
       "      <td>-1.5</td>\n",
       "      <td>0.0</td>\n",
       "      <td>2.0</td>\n",
       "      <td>49</td>\n",
       "      <td>-2.5</td>\n",
       "      <td>0.0</td>\n",
       "    </tr>\n",
       "    <tr>\n",
       "      <th>692</th>\n",
       "      <td>2024-12-29 20:00:00</td>\n",
       "      <td>3.0</td>\n",
       "      <td>0.0</td>\n",
       "      <td>1.7</td>\n",
       "      <td>63</td>\n",
       "      <td>-0.3</td>\n",
       "      <td>0.0</td>\n",
       "    </tr>\n",
       "  </tbody>\n",
       "</table>\n",
       "</div>"
      ],
      "text/plain": [
       "                     일시  기온(°C)  강수량(mm)  풍속(m/s)  습도(%)  지면온도(°C)  적설(cm)\n",
       "497 2024-12-21 17:00:00    -0.7      0.0      2.2     67      -0.2     1.4\n",
       "671 2024-12-28 23:00:00    -3.1      0.0      0.6     56      -4.0     0.0\n",
       "552 2024-12-24 00:00:00    -1.1      0.0      1.6     51      -2.4     0.0\n",
       "729 2024-12-31 09:00:00    -1.5      0.0      2.0     49      -2.5     0.0\n",
       "692 2024-12-29 20:00:00     3.0      0.0      1.7     63      -0.3     0.0"
      ]
     },
     "execution_count": 39,
     "metadata": {},
     "output_type": "execute_result"
    }
   ],
   "source": [
    "df_bike.sample(5)"
   ]
  },
  {
   "cell_type": "code",
   "execution_count": 40,
   "id": "8af863e4",
   "metadata": {},
   "outputs": [],
   "source": [
    "# DataFrame을 상위 폴더의 datas 폴더에 cleaned_weather.csv로 저장\n",
    "\n",
    "output_file_path = '../datas/cleaned_weather.csv'\n",
    "df_bike.to_csv(output_file_path, index=False, encoding='cp949')"
   ]
  },
  {
   "cell_type": "code",
   "execution_count": null,
   "metadata": {},
   "outputs": [],
   "source": [
    "# 대여소 Top 10\n",
    "top_start = bike['대여소명'].value_counts().head(10)\n",
    "top_start.plot(kind='bar', title='Top 10 대여소', figsize=(8,4))\n",
    "plt.show()\n",
    "\n",
    "# 반납소 Top 10\n",
    "top_end = bike['반납소명'].value_counts().head(10)\n",
    "top_end.plot(kind='bar', color='orange', title='Top 10 반납소', figsize=(8,4))\n",
    "plt.show()"
   ]
  }
 ],
 "metadata": {
  "kernelspec": {
   "display_name": "Python 3",
   "language": "python",
   "name": "python3"
  },
  "language_info": {
   "codemirror_mode": {
    "name": "ipython",
    "version": 3
   },
   "file_extension": ".py",
   "mimetype": "text/x-python",
   "name": "python",
   "nbconvert_exporter": "python",
   "pygments_lexer": "ipython3",
   "version": "3.11.2"
  }
 },
 "nbformat": 4,
 "nbformat_minor": 5
}
